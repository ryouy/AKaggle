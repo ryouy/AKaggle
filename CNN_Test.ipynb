{
  "nbformat": 4,
  "nbformat_minor": 0,
  "metadata": {
    "colab": {
      "provenance": [],
      "authorship_tag": "ABX9TyPTpMqOTn7jmmXbIyNjd6/p",
      "include_colab_link": true
    },
    "kernelspec": {
      "name": "python3",
      "display_name": "Python 3"
    },
    "language_info": {
      "name": "python"
    }
  },
  "cells": [
    {
      "cell_type": "markdown",
      "metadata": {
        "id": "view-in-github",
        "colab_type": "text"
      },
      "source": [
        "<a href=\"https://colab.research.google.com/github/ryouy/AKaggle/blob/main/CNN_Test.ipynb\" target=\"_parent\"><img src=\"https://colab.research.google.com/assets/colab-badge.svg\" alt=\"Open In Colab\"/></a>"
      ]
    },
    {
      "cell_type": "code",
      "execution_count": 11,
      "metadata": {
        "id": "lhr9iXWZ68qJ"
      },
      "outputs": [],
      "source": [
        "import numpy as np\n",
        "from sklearn.model_selection import train_test_split\n",
        "import tensorflow as tf\n",
        "from tensorflow.keras.datasets import mnist\n",
        "from tensorflow import keras\n",
        "from tensorflow.keras.layers import Dense, Activation\n",
        "from tensorflow.keras.models import Sequential\n",
        "from tensorflow.keras.utils import to_categorical"
      ]
    },
    {
      "cell_type": "code",
      "source": [
        "np.random.seed(0)\n",
        "(X_train_base, labels_train_base), (X_test, labels_test) = mnist.load_data()\n",
        "X_train,X_validation,labels_train,labels_validation = train_test_split(X_train_base,labels_train_base,test_size = 0.2)"
      ],
      "metadata": {
        "colab": {
          "base_uri": "https://localhost:8080/"
        },
        "id": "-kBKx5569tCw",
        "outputId": "7b695bbe-e481-4182-c5d4-4da855f83aed"
      },
      "execution_count": 12,
      "outputs": [
        {
          "output_type": "stream",
          "name": "stdout",
          "text": [
            "Downloading data from https://storage.googleapis.com/tensorflow/tf-keras-datasets/mnist.npz\n",
            "\u001b[1m11490434/11490434\u001b[0m \u001b[32m━━━━━━━━━━━━━━━━━━━━\u001b[0m\u001b[37m\u001b[0m \u001b[1m0s\u001b[0m 0us/step\n"
          ]
        }
      ]
    },
    {
      "cell_type": "code",
      "source": [
        "X_train = X_train.reshape(-1,784)\n",
        "X_validation = X_validation.reshape(-1,784)\n",
        "X_test = X_test.reshape(-1,784)\n",
        "\n",
        "X_train = X_train.astype('float32')\n",
        "X_validation = X_validation.astype('float32')\n",
        "X_test = X_test.astype('float32')\n",
        "X_train /= 255\n",
        "X_validation /= 255\n",
        "X_test /= 255"
      ],
      "metadata": {
        "id": "bGpe2mfq-kbe"
      },
      "execution_count": 13,
      "outputs": []
    },
    {
      "cell_type": "code",
      "source": [
        "y_train = to_categorical(labels_train)\n",
        "y_validation = to_categorical(labels_validation)\n",
        "y_test = to_categorical(labels_test)"
      ],
      "metadata": {
        "id": "EdS5EfKIA-s6"
      },
      "execution_count": 14,
      "outputs": []
    },
    {
      "cell_type": "code",
      "source": [
        "n_features = 784\n",
        "n_hidden   = 100\n",
        "bias_init = 0.1\n",
        "\n",
        "rate       = 0.01\n",
        "\n",
        "model = Sequential()\n",
        "\n",
        "model.add(Dense(n_hidden,activation='relu',input_shape=(n_features,)))\n",
        "model.add(Dense(n_hidden,activation='relu'))\n",
        "model.add(Dense(n_hidden,activation='relu'))\n",
        "\n",
        "model.add(Dense(10,activation='softmax'))"
      ],
      "metadata": {
        "colab": {
          "base_uri": "https://localhost:8080/"
        },
        "id": "7GBhiX4zBB4t",
        "outputId": "1b891ff8-d805-4055-fda4-9f336333509a"
      },
      "execution_count": 15,
      "outputs": [
        {
          "output_type": "stream",
          "name": "stderr",
          "text": [
            "/usr/local/lib/python3.11/dist-packages/keras/src/layers/core/dense.py:87: UserWarning: Do not pass an `input_shape`/`input_dim` argument to a layer. When using Sequential models, prefer using an `Input(shape)` object as the first layer in the model instead.\n",
            "  super().__init__(activity_regularizer=activity_regularizer, **kwargs)\n"
          ]
        }
      ]
    },
    {
      "cell_type": "code",
      "source": [
        "from tensorflow.keras.optimizers import Adam\n",
        "from tensorflow.keras.callbacks import EarlyStopping\n",
        "\n",
        "# Use tf.keras.optimizers.Adam instead of tf.train.AdamOptimizer\n",
        "model.compile(optimizer=Adam(learning_rate=rate),  # Use 'learning_rate' instead of 'rate' if needed\n",
        "              loss='categorical_crossentropy',\n",
        "              metrics=['mae', 'accuracy'])\n",
        "\n",
        "# Use EarlyStopping from tensorflow.keras.callbacks\n",
        "log = model.fit(\n",
        "    X_train, y_train,\n",
        "    epochs=3000,\n",
        "    batch_size=100,\n",
        "    verbose=True,\n",
        "    callbacks=[\n",
        "        EarlyStopping(monitor='val_loss', min_delta=0, patience=10, verbose=1)\n",
        "    ],\n",
        "    validation_data=(X_validation, y_validation)\n",
        ")\n"
      ],
      "metadata": {
        "colab": {
          "base_uri": "https://localhost:8080/"
        },
        "id": "VY7gjkogBLD8",
        "outputId": "9ff26acd-6cae-46fc-a5e3-1c535615c2db"
      },
      "execution_count": 17,
      "outputs": [
        {
          "output_type": "stream",
          "name": "stdout",
          "text": [
            "Epoch 1/3000\n",
            "\u001b[1m480/480\u001b[0m \u001b[32m━━━━━━━━━━━━━━━━━━━━\u001b[0m\u001b[37m\u001b[0m \u001b[1m5s\u001b[0m 6ms/step - accuracy: 0.8545 - loss: 0.4526 - mae: 0.0397 - val_accuracy: 0.9522 - val_loss: 0.1692 - val_mae: 0.0144\n",
            "Epoch 2/3000\n",
            "\u001b[1m480/480\u001b[0m \u001b[32m━━━━━━━━━━━━━━━━━━━━\u001b[0m\u001b[37m\u001b[0m \u001b[1m3s\u001b[0m 7ms/step - accuracy: 0.9536 - loss: 0.1568 - mae: 0.0134 - val_accuracy: 0.9574 - val_loss: 0.1524 - val_mae: 0.0126\n",
            "Epoch 3/3000\n",
            "\u001b[1m480/480\u001b[0m \u001b[32m━━━━━━━━━━━━━━━━━━━━\u001b[0m\u001b[37m\u001b[0m \u001b[1m3s\u001b[0m 7ms/step - accuracy: 0.9649 - loss: 0.1211 - mae: 0.0102 - val_accuracy: 0.9596 - val_loss: 0.1429 - val_mae: 0.0104\n",
            "Epoch 4/3000\n",
            "\u001b[1m480/480\u001b[0m \u001b[32m━━━━━━━━━━━━━━━━━━━━\u001b[0m\u001b[37m\u001b[0m \u001b[1m3s\u001b[0m 5ms/step - accuracy: 0.9703 - loss: 0.1056 - mae: 0.0087 - val_accuracy: 0.9647 - val_loss: 0.1399 - val_mae: 0.0093\n",
            "Epoch 5/3000\n",
            "\u001b[1m480/480\u001b[0m \u001b[32m━━━━━━━━━━━━━━━━━━━━\u001b[0m\u001b[37m\u001b[0m \u001b[1m3s\u001b[0m 5ms/step - accuracy: 0.9718 - loss: 0.1007 - mae: 0.0079 - val_accuracy: 0.9651 - val_loss: 0.1441 - val_mae: 0.0091\n",
            "Epoch 6/3000\n",
            "\u001b[1m480/480\u001b[0m \u001b[32m━━━━━━━━━━━━━━━━━━━━\u001b[0m\u001b[37m\u001b[0m \u001b[1m7s\u001b[0m 10ms/step - accuracy: 0.9771 - loss: 0.0847 - mae: 0.0067 - val_accuracy: 0.9649 - val_loss: 0.1391 - val_mae: 0.0104\n",
            "Epoch 7/3000\n",
            "\u001b[1m480/480\u001b[0m \u001b[32m━━━━━━━━━━━━━━━━━━━━\u001b[0m\u001b[37m\u001b[0m \u001b[1m3s\u001b[0m 5ms/step - accuracy: 0.9748 - loss: 0.0875 - mae: 0.0070 - val_accuracy: 0.9687 - val_loss: 0.1357 - val_mae: 0.0083\n",
            "Epoch 8/3000\n",
            "\u001b[1m480/480\u001b[0m \u001b[32m━━━━━━━━━━━━━━━━━━━━\u001b[0m\u001b[37m\u001b[0m \u001b[1m5s\u001b[0m 5ms/step - accuracy: 0.9765 - loss: 0.0843 - mae: 0.0066 - val_accuracy: 0.9672 - val_loss: 0.1445 - val_mae: 0.0084\n",
            "Epoch 9/3000\n",
            "\u001b[1m480/480\u001b[0m \u001b[32m━━━━━━━━━━━━━━━━━━━━\u001b[0m\u001b[37m\u001b[0m \u001b[1m3s\u001b[0m 6ms/step - accuracy: 0.9808 - loss: 0.0701 - mae: 0.0055 - val_accuracy: 0.9629 - val_loss: 0.1558 - val_mae: 0.0094\n",
            "Epoch 10/3000\n",
            "\u001b[1m480/480\u001b[0m \u001b[32m━━━━━━━━━━━━━━━━━━━━\u001b[0m\u001b[37m\u001b[0m \u001b[1m5s\u001b[0m 5ms/step - accuracy: 0.9791 - loss: 0.0752 - mae: 0.0058 - val_accuracy: 0.9665 - val_loss: 0.1418 - val_mae: 0.0081\n",
            "Epoch 11/3000\n",
            "\u001b[1m480/480\u001b[0m \u001b[32m━━━━━━━━━━━━━━━━━━━━\u001b[0m\u001b[37m\u001b[0m \u001b[1m5s\u001b[0m 5ms/step - accuracy: 0.9814 - loss: 0.0735 - mae: 0.0053 - val_accuracy: 0.9654 - val_loss: 0.1547 - val_mae: 0.0090\n",
            "Epoch 12/3000\n",
            "\u001b[1m480/480\u001b[0m \u001b[32m━━━━━━━━━━━━━━━━━━━━\u001b[0m\u001b[37m\u001b[0m \u001b[1m3s\u001b[0m 7ms/step - accuracy: 0.9812 - loss: 0.0702 - mae: 0.0052 - val_accuracy: 0.9704 - val_loss: 0.1292 - val_mae: 0.0081\n",
            "Epoch 13/3000\n",
            "\u001b[1m480/480\u001b[0m \u001b[32m━━━━━━━━━━━━━━━━━━━━\u001b[0m\u001b[37m\u001b[0m \u001b[1m3s\u001b[0m 7ms/step - accuracy: 0.9838 - loss: 0.0603 - mae: 0.0046 - val_accuracy: 0.9693 - val_loss: 0.1580 - val_mae: 0.0075\n",
            "Epoch 14/3000\n",
            "\u001b[1m480/480\u001b[0m \u001b[32m━━━━━━━━━━━━━━━━━━━━\u001b[0m\u001b[37m\u001b[0m \u001b[1m4s\u001b[0m 5ms/step - accuracy: 0.9830 - loss: 0.0687 - mae: 0.0048 - val_accuracy: 0.9728 - val_loss: 0.1435 - val_mae: 0.0074\n",
            "Epoch 15/3000\n",
            "\u001b[1m480/480\u001b[0m \u001b[32m━━━━━━━━━━━━━━━━━━━━\u001b[0m\u001b[37m\u001b[0m \u001b[1m2s\u001b[0m 5ms/step - accuracy: 0.9857 - loss: 0.0534 - mae: 0.0041 - val_accuracy: 0.9706 - val_loss: 0.1478 - val_mae: 0.0075\n",
            "Epoch 16/3000\n",
            "\u001b[1m480/480\u001b[0m \u001b[32m━━━━━━━━━━━━━━━━━━━━\u001b[0m\u001b[37m\u001b[0m \u001b[1m3s\u001b[0m 7ms/step - accuracy: 0.9846 - loss: 0.0586 - mae: 0.0042 - val_accuracy: 0.9712 - val_loss: 0.1959 - val_mae: 0.0069\n",
            "Epoch 17/3000\n",
            "\u001b[1m480/480\u001b[0m \u001b[32m━━━━━━━━━━━━━━━━━━━━\u001b[0m\u001b[37m\u001b[0m \u001b[1m3s\u001b[0m 7ms/step - accuracy: 0.9840 - loss: 0.0649 - mae: 0.0044 - val_accuracy: 0.9684 - val_loss: 0.1929 - val_mae: 0.0074\n",
            "Epoch 18/3000\n",
            "\u001b[1m480/480\u001b[0m \u001b[32m━━━━━━━━━━━━━━━━━━━━\u001b[0m\u001b[37m\u001b[0m \u001b[1m4s\u001b[0m 5ms/step - accuracy: 0.9844 - loss: 0.0659 - mae: 0.0043 - val_accuracy: 0.9714 - val_loss: 0.1847 - val_mae: 0.0067\n",
            "Epoch 19/3000\n",
            "\u001b[1m480/480\u001b[0m \u001b[32m━━━━━━━━━━━━━━━━━━━━\u001b[0m\u001b[37m\u001b[0m \u001b[1m3s\u001b[0m 5ms/step - accuracy: 0.9875 - loss: 0.0509 - mae: 0.0036 - val_accuracy: 0.9718 - val_loss: 0.1616 - val_mae: 0.0072\n",
            "Epoch 20/3000\n",
            "\u001b[1m480/480\u001b[0m \u001b[32m━━━━━━━━━━━━━━━━━━━━\u001b[0m\u001b[37m\u001b[0m \u001b[1m3s\u001b[0m 7ms/step - accuracy: 0.9854 - loss: 0.0570 - mae: 0.0041 - val_accuracy: 0.9712 - val_loss: 0.1621 - val_mae: 0.0067\n",
            "Epoch 21/3000\n",
            "\u001b[1m480/480\u001b[0m \u001b[32m━━━━━━━━━━━━━━━━━━━━\u001b[0m\u001b[37m\u001b[0m \u001b[1m4s\u001b[0m 5ms/step - accuracy: 0.9884 - loss: 0.0470 - mae: 0.0033 - val_accuracy: 0.9682 - val_loss: 0.1877 - val_mae: 0.0078\n",
            "Epoch 22/3000\n",
            "\u001b[1m480/480\u001b[0m \u001b[32m━━━━━━━━━━━━━━━━━━━━\u001b[0m\u001b[37m\u001b[0m \u001b[1m5s\u001b[0m 5ms/step - accuracy: 0.9852 - loss: 0.0631 - mae: 0.0042 - val_accuracy: 0.9661 - val_loss: 0.1900 - val_mae: 0.0085\n",
            "Epoch 22: early stopping\n"
          ]
        }
      ]
    },
    {
      "cell_type": "code",
      "source": [
        "pred_probabilities = model.predict(X_test)\n",
        "pred_test = np.argmax(pred_probabilities, axis=1)\n",
        "\n",
        "# Validation and accuracy calculation\n",
        "validation = (pred_test == labels_test)\n",
        "size = validation.size\n",
        "correct = np.count_nonzero(validation)\n",
        "\n",
        "# Print the result\n",
        "print(f\"{correct}/{size} correct ({correct * 100 / size:.3f}%)\")"
      ],
      "metadata": {
        "colab": {
          "base_uri": "https://localhost:8080/"
        },
        "id": "zagH3Xz_BQ5V",
        "outputId": "b55ed5c4-bdf5-4ed7-dade-7d2a579ca0f1"
      },
      "execution_count": 19,
      "outputs": [
        {
          "output_type": "stream",
          "name": "stdout",
          "text": [
            "\u001b[1m313/313\u001b[0m \u001b[32m━━━━━━━━━━━━━━━━━━━━\u001b[0m\u001b[37m\u001b[0m \u001b[1m1s\u001b[0m 3ms/step\n",
            "9681/10000 correct (96.810%)\n"
          ]
        }
      ]
    },
    {
      "cell_type": "code",
      "source": [],
      "metadata": {
        "id": "0puAIfF9CC2V"
      },
      "execution_count": null,
      "outputs": []
    }
  ]
}