{
 "cells": [
  {
   "cell_type": "code",
   "execution_count": 1,
   "id": "286e6b3e",
   "metadata": {
    "_cell_guid": "b1076dfc-b9ad-4769-8c92-a6c4dae69d19",
    "_uuid": "8f2839f25d086af736a60e9eeb907d3b93b6e0e5",
    "execution": {
     "iopub.execute_input": "2025-01-08T12:27:07.082630Z",
     "iopub.status.busy": "2025-01-08T12:27:07.082102Z",
     "iopub.status.idle": "2025-01-08T12:27:11.993613Z",
     "shell.execute_reply": "2025-01-08T12:27:11.992308Z"
    },
    "papermill": {
     "duration": 4.919827,
     "end_time": "2025-01-08T12:27:11.995689",
     "exception": false,
     "start_time": "2025-01-08T12:27:07.075862",
     "status": "completed"
    },
    "tags": []
   },
   "outputs": [],
   "source": [
    "# 必要なライブラリのimport\n",
    "import pandas as pd\n",
    "import numpy as np\n",
    "\n",
    "import matplotlib.pyplot as plt\n",
    "import seaborn as sns\n",
    "plt.style.use('ggplot')\n",
    "\n",
    "import lightgbm as lgb\n",
    "from sklearn.metrics import mean_squared_error\n",
    "from sklearn.preprocessing import LabelEncoder\n",
    "\n",
    "\n",
    "import warnings\n",
    "warnings.filterwarnings('ignore')\n",
    "\n",
    "import datetime\n",
    "import datetime as dt"
   ]
  },
  {
   "cell_type": "code",
   "execution_count": 2,
   "id": "d6aeb032",
   "metadata": {
    "execution": {
     "iopub.execute_input": "2025-01-08T12:27:12.002315Z",
     "iopub.status.busy": "2025-01-08T12:27:12.001549Z",
     "iopub.status.idle": "2025-01-08T12:27:12.081428Z",
     "shell.execute_reply": "2025-01-08T12:27:12.080198Z"
    },
    "papermill": {
     "duration": 0.085151,
     "end_time": "2025-01-08T12:27:12.083443",
     "exception": false,
     "start_time": "2025-01-08T12:27:11.998292",
     "status": "completed"
    },
    "tags": []
   },
   "outputs": [],
   "source": [
    "df_test = pd.read_csv('/kaggle/input/house-prices-advanced-regression-techniques/test.csv')\n",
    "df_train = pd.read_csv('/kaggle/input/house-prices-advanced-regression-techniques/train.csv')\n"
   ]
  },
  {
   "cell_type": "code",
   "execution_count": null,
   "id": "3f736afc",
   "metadata": {
    "execution": {
     "iopub.execute_input": "2025-01-08T12:09:32.896906Z",
     "iopub.status.busy": "2025-01-08T12:09:32.896533Z",
     "iopub.status.idle": "2025-01-08T12:09:32.937208Z",
     "shell.execute_reply": "2025-01-08T12:09:32.936256Z",
     "shell.execute_reply.started": "2025-01-08T12:09:32.896873Z"
    },
    "papermill": {
     "duration": 0.001778,
     "end_time": "2025-01-08T12:27:12.087575",
     "exception": false,
     "start_time": "2025-01-08T12:27:12.085797",
     "status": "completed"
    },
    "tags": []
   },
   "outputs": [],
   "source": []
  },
  {
   "cell_type": "code",
   "execution_count": null,
   "id": "6631de72",
   "metadata": {
    "papermill": {
     "duration": 0.001651,
     "end_time": "2025-01-08T12:27:12.091224",
     "exception": false,
     "start_time": "2025-01-08T12:27:12.089573",
     "status": "completed"
    },
    "tags": []
   },
   "outputs": [],
   "source": []
  }
 ],
 "metadata": {
  "kaggle": {
   "accelerator": "none",
   "dataSources": [
    {
     "databundleVersionId": 868283,
     "sourceId": 5407,
     "sourceType": "competition"
    }
   ],
   "dockerImageVersionId": 30822,
   "isGpuEnabled": false,
   "isInternetEnabled": false,
   "language": "python",
   "sourceType": "notebook"
  },
  "kernelspec": {
   "display_name": "Python 3",
   "language": "python",
   "name": "python3"
  },
  "language_info": {
   "codemirror_mode": {
    "name": "ipython",
    "version": 3
   },
   "file_extension": ".py",
   "mimetype": "text/x-python",
   "name": "python",
   "nbconvert_exporter": "python",
   "pygments_lexer": "ipython3",
   "version": "3.10.12"
  },
  "papermill": {
   "default_parameters": {},
   "duration": 8.331418,
   "end_time": "2025-01-08T12:27:13.015007",
   "environment_variables": {},
   "exception": null,
   "input_path": "__notebook__.ipynb",
   "output_path": "__notebook__.ipynb",
   "parameters": {},
   "start_time": "2025-01-08T12:27:04.683589",
   "version": "2.6.0"
  }
 },
 "nbformat": 4,
 "nbformat_minor": 5
}
